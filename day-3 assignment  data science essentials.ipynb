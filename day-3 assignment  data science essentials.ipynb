{
 "cells": [
  {
   "cell_type": "markdown",
   "metadata": {},
   "source": [
    "# Ques1: Create a numpy aaray starting from 2 till 50 with a stepsize of 3"
   ]
  },
  {
   "cell_type": "code",
   "execution_count": 1,
   "metadata": {},
   "outputs": [],
   "source": [
    "import numpy as np"
   ]
  },
  {
   "cell_type": "code",
   "execution_count": 2,
   "metadata": {},
   "outputs": [
    {
     "data": {
      "text/plain": [
       "array([ 2,  5,  8, 11, 14, 17, 20, 23, 26, 29, 32, 35, 38, 41, 44, 47])"
      ]
     },
     "execution_count": 2,
     "metadata": {},
     "output_type": "execute_result"
    }
   ],
   "source": [
    "np.arange(50)[2:51:3]"
   ]
  },
  {
   "cell_type": "markdown",
   "metadata": {},
   "source": [
    "# Ques2:Accept two lists of 5 elements each from user.convert them to "
   ]
  },
  {
   "cell_type": "code",
   "execution_count": 6,
   "metadata": {},
   "outputs": [
    {
     "name": "stdout",
     "output_type": "stream",
     "text": [
      "2\n",
      "45\n",
      "67\n",
      "89\n",
      "32\n",
      "first list: [2, 45, 67, 89, 32]\n",
      "\n",
      "45\n",
      "78\n",
      "0\n",
      "98\n",
      "12\n",
      "second list: [45, 78, 0, 98, 12]\n",
      "\n",
      "concatenate array: [ 47 123  67 187  44]\n",
      "sorted aaray: [ 44  47  67 123 187]\n"
     ]
    }
   ],
   "source": [
    "import numpy as np\n",
    "l1=[]\n",
    "l2=[]\n",
    "for i in range(5):\n",
    "    n1=int(input())\n",
    "    l1.append(n1)\n",
    "print(\"first list:\",l1)\n",
    "print()\n",
    "\n",
    "for i in range(5):\n",
    "    n2=int(input())\n",
    "    l2.append(n2)\n",
    "print(\"second list:\",l2)\n",
    "print()\n",
    "a1=np.array(l1)\n",
    "a2=np.array(l2)\n",
    "a=a1+a2\n",
    "print(\"concatenate array:\",a)\n",
    "a.sort()\n",
    "print(\"sorted aaray:\",a)\n"
   ]
  },
  {
   "cell_type": "markdown",
   "metadata": {},
   "source": [
    "# Ques3: write a code snippet to find the dimension of nd array an its size ."
   ]
  },
  {
   "cell_type": "code",
   "execution_count": 8,
   "metadata": {},
   "outputs": [
    {
     "name": "stdout",
     "output_type": "stream",
     "text": [
      "dimension of nd array: 2\n",
      "size of the array: 9\n"
     ]
    }
   ],
   "source": [
    "import numpy as np\n",
    "arr=np.array([[1,2,3],[4,6,5],[7,8,9]])\n",
    "print(\"dimension of nd array:\",arr.ndim)\n",
    "print(\"size of the array:\",arr.size)"
   ]
  },
  {
   "cell_type": "markdown",
   "metadata": {},
   "source": [
    "# Ques4:How to convert a 1d aaray into 2d array?Demonstrate with the help of a code snippet ."
   ]
  },
  {
   "cell_type": "code",
   "execution_count": 10,
   "metadata": {},
   "outputs": [
    {
     "name": "stdout",
     "output_type": "stream",
     "text": [
      "5\n",
      "1d array: (5,)\n",
      "2d array row is: (1, 5)\n",
      "2d array col: (5, 1)\n"
     ]
    }
   ],
   "source": [
    "import numpy as np\n",
    "arr=np.arange(int(input()))\n",
    "print(\"1d array:\",arr.shape)\n",
    "\n",
    "array_row=arr[np.newaxis]\n",
    "print(\"2d array row is:\",array_row.shape)\n",
    "array_col=arr[:,np.newaxis]\n",
    "print(\"2d array col:\",array_col.shape)\n"
   ]
  },
  {
   "cell_type": "markdown",
   "metadata": {},
   "source": [
    "# Ques5:Consider two square numpy array. stack them vertically and horizontally."
   ]
  },
  {
   "cell_type": "code",
   "execution_count": 17,
   "metadata": {},
   "outputs": [
    {
     "name": "stdout",
     "output_type": "stream",
     "text": [
      "horizontally stacked: [[ 1  4  9 16 25 36]\n",
      " [ 4  9 16 49 64 81]]\n",
      "vertically stacked: [[ 1  4  9]\n",
      " [ 4  9 16]\n",
      " [16 25 36]\n",
      " [49 64 81]]\n"
     ]
    }
   ],
   "source": [
    "import numpy as np\n",
    "arr1=np.square([[1,2,3],[2,3,4]])\n",
    "arr2=np.square([[4,5,6],[7,8,9]])\n",
    "print(\"horizontally stacked:\",np.hstack((arr1,arr2)))\n",
    "print(\"vertically stacked:\",np.vstack((arr1,arr2)))"
   ]
  },
  {
   "cell_type": "markdown",
   "metadata": {},
   "source": [
    "# Ques6:how to get unique items and counts of unique items."
   ]
  },
  {
   "cell_type": "code",
   "execution_count": 24,
   "metadata": {},
   "outputs": [
    {
     "name": "stdout",
     "output_type": "stream",
     "text": [
      "[[ 0  9]\n",
      " [ 1  0]\n",
      " [ 2  1]\n",
      " [ 3  2]\n",
      " [ 4  3]\n",
      " [ 5  4]\n",
      " [ 6  5]\n",
      " [ 7  6]\n",
      " [ 8  7]\n",
      " [ 9  8]\n",
      " [11 10]]\n"
     ]
    }
   ],
   "source": [
    "import numpy as np\n",
    "arr=np.array([1,2,3,4,5,6,7,8,9,0,11])\n",
    "unique_counts=np.unique(arr,True)\n",
    "arr=np.asarray((unique_counts)).T\n",
    "print(arr)"
   ]
  },
  {
   "cell_type": "code",
   "execution_count": null,
   "metadata": {},
   "outputs": [],
   "source": []
  },
  {
   "cell_type": "code",
   "execution_count": null,
   "metadata": {},
   "outputs": [],
   "source": []
  },
  {
   "cell_type": "code",
   "execution_count": null,
   "metadata": {},
   "outputs": [],
   "source": []
  }
 ],
 "metadata": {
  "kernelspec": {
   "display_name": "Python 3",
   "language": "python",
   "name": "python3"
  },
  "language_info": {
   "codemirror_mode": {
    "name": "ipython",
    "version": 3
   },
   "file_extension": ".py",
   "mimetype": "text/x-python",
   "name": "python",
   "nbconvert_exporter": "python",
   "pygments_lexer": "ipython3",
   "version": "3.8.3"
  }
 },
 "nbformat": 4,
 "nbformat_minor": 2
}
