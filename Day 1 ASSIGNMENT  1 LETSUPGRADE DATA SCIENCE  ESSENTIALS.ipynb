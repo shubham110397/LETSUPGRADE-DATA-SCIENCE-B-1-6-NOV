{
 "cells": [
  {
   "cell_type": "markdown",
   "metadata": {},
   "source": [
    "# Ques 1. GUESS THE CORRECT ENGLISH WORD\n"
   ]
  },
  {
   "cell_type": "code",
   "execution_count": 1,
   "metadata": {},
   "outputs": [
    {
     "name": "stdout",
     "output_type": "stream",
     "text": [
      "the correct word of OBANWRI\n",
      "enter the wordrainbow\n",
      "try again\n"
     ]
    }
   ],
   "source": [
    "print('the correct word of OBANWRI')\n",
    "Guessed_word = input(\"enter the word\")\n",
    "#while True:\n",
    "if Guessed_word == \"RAINBOW\":\n",
    "    print(\"you guessed it right\")\n",
    "else:\n",
    "    print('try again , You guesses it wrong')"
   ]
  },
  {
   "cell_type": "markdown",
   "metadata": {},
   "source": [
    "# QUES 2 Write a program which prints \"LETS UPGRADE\""
   ]
  },
  {
   "cell_type": "code",
   "execution_count": 4,
   "metadata": {},
   "outputs": [
    {
     "name": "stdout",
     "output_type": "stream",
     "text": [
      "Enter the word you want to printlets upgrade\n"
     ]
    },
    {
     "data": {
      "text/plain": [
       "'LETS UPGRADE'"
      ]
     },
     "execution_count": 4,
     "metadata": {},
     "output_type": "execute_result"
    }
   ],
   "source": [
    "word = input(\"Enter the word you want to print\")\n",
    "word.upper()\n"
   ]
  },
  {
   "cell_type": "markdown",
   "metadata": {},
   "source": [
    "# Ques 3. Write a program that takes cost price and selling price as input and displays whether the transaction is a profit or loss or neither."
   ]
  },
  {
   "cell_type": "code",
   "execution_count": 4,
   "metadata": {},
   "outputs": [
    {
     "name": "stdout",
     "output_type": "stream",
     "text": [
      "Cost price50\n",
      "sellling pricce50\n",
      "neither profit nor loss\n"
     ]
    }
   ],
   "source": [
    "Cost_price = input(\"Cost price\")\n",
    "Selling_price = input(\"sellling pricce\")\n",
    "if Cost_price > Selling_price :\n",
    "    print(\"It is a loss\")\n",
    "elif Cost_price < Selling_price :\n",
    "    print(\"its a profit\")\n",
    "else :\n",
    "    print(\"neither profit nor loss\")"
   ]
  },
  {
   "cell_type": "markdown",
   "metadata": {},
   "source": [
    "# Ques 4 Write a program that takes an amount in euros as input.and find its equivalent in rs."
   ]
  },
  {
   "cell_type": "code",
   "execution_count": 2,
   "metadata": {},
   "outputs": [
    {
     "name": "stdout",
     "output_type": "stream",
     "text": [
      "Euros20\n",
      "1600\n"
     ]
    }
   ],
   "source": [
    "Euros = int(input(\"Euros\"))\n",
    "Rupees = Euros*80\n",
    "print(Rupees)\n",
    "\n",
    "\n",
    "    \n",
    "    "
   ]
  },
  {
   "cell_type": "code",
   "execution_count": null,
   "metadata": {},
   "outputs": [],
   "source": []
  }
 ],
 "metadata": {
  "kernelspec": {
   "display_name": "Python 3",
   "language": "python",
   "name": "python3"
  },
  "language_info": {
   "codemirror_mode": {
    "name": "ipython",
    "version": 3
   },
   "file_extension": ".py",
   "mimetype": "text/x-python",
   "name": "python",
   "nbconvert_exporter": "python",
   "pygments_lexer": "ipython3",
   "version": "3.8.3"
  }
 },
 "nbformat": 4,
 "nbformat_minor": 4
}
